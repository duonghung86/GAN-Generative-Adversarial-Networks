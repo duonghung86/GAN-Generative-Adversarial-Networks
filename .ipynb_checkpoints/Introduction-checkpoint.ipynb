{
 "cells": [
  {
   "cell_type": "markdown",
   "metadata": {
    "collapsed": true,
    "pycharm": {
     "name": "#%% md\n"
    }
   },
   "source": [
    "# What is Generative Adversarial Networks GAN\n",
    "\n",
    "Source:\n",
    "- [GAN - What is Generative Adversarial Networks GAN?](https://jonathan-hui.medium.com/gan-whats-generative-adversarial-networks-and-its-application-f39ed278ef09)\n",
    "- [GANs in action: Deep learning with Generative Adversarial Networks](https://www.amazon.com/GANs-Action-learning-Generative-Adversarial/dp/1617295566)\n",
    "\n",
    "## What does GAN do?\n",
    "The main focus for GAN (Generative Adversarial Networks) is to generate data from scratch, mostly images but other domains including music have been done.\n",
    "But the scope of application is far bigger than this.\n",
    "\n",
    "![Example of GAN](https://3qeqpr26caki16dnhd19sv6by6v-wpengine.netdna-ssl.com/wp-content/uploads/2019/04/Examples-of-GANs-used-to-Generate-New-Plausible-Examples-for-Image-Datasets-1024x719.png)\n",
    "\n",
    "## Generator and discriminator\n",
    "GAN composes of two deep networks, the **generator**, and the **discriminator**.\n",
    "Generative Adversarial Networks (GANs) are a class of machine learning techniques that\n",
    "consist of two simultaneously trained models: one (the Generator) trained to generate\n",
    "fake data, and the other (the Discriminator) trained to discern the fake data from real\n",
    "examples.\n",
    "\n",
    "### Generator\n",
    "\n",
    "The word $generative$ indicates the overall purpose of the model: **creating new data**.\n",
    "The data that a GAN will learn to generate depends on the choice of the training set.\n",
    "\n",
    "#### Example: How a generator creates images\n",
    "First, we sample some noise $z$ using a normal or uniform distribution.\n",
    "With $z$ as an input, we use a generator $G$ to create an image $x (x=G(z))$.\n",
    "\n",
    "Conceptually, $z$ represents the latent features of the images generated,\n",
    "for example, the color and the shape.\n",
    "In Deep learning classification, we don’t control\n",
    "- the features the model is learning\n",
    "- the semantic meaning of $z$.\n",
    "We let the training process to learn it. To discover its meaning,\n",
    "the most effective way is to plot the generated images and examine ourselves.\n",
    "\n",
    "### Discriminator\n",
    "\n",
    "But a generator alone will just create random noise.\n",
    "Conceptually, the discriminator in GAN provides guidance to the generator on what images to create.\n",
    "\n",
    "![Comparison between Generator and Discriminator](Figs/GANiAct_Table1.1.PNG)"
   ]
  },
  {
   "cell_type": "markdown",
   "metadata": {
    "pycharm": {
     "name": "#%% md\n"
    }
   },
   "source": [
    "# GAN training algorithm\n",
    "\n",
    "For each training iteration do\n",
    "1. Train the Discriminator:\n",
    "\n",
    " a. Take a random real example x from the training dataset.\n",
    "\n",
    " b. Get a new random noise vector z and, using the Generator network, synthesize\n",
    "a fake example x*.\n",
    "\n",
    " c. Use the Discriminator network to classify x and x*.\n",
    "\n",
    " d. Compute the classification errors and backpropagate the total error to\n",
    "update the Discriminator’s trainable parameters, seeking to minimize the\n",
    "classification errors.\n",
    "\n",
    "2. Train the Generator:\n",
    "\n",
    " a. Get a new random noise vector z and, using the Generator network, synthesize\n",
    "a fake example x*.\n",
    "\n",
    " b. Use the Discriminator network to classify x*.\n",
    "\n",
    " c. Compute the classification error and backpropagate the error to update\n",
    "the Generator’s trainable parameters, seeking to maximize the Discriminator’s\n",
    "error.\n",
    "\n",
    "End $for$\n",
    "\n",
    " ![Illustration](Figs/GANiAct_Figure_1.3.PNG)"
   ]
  }
 ],
 "metadata": {
  "kernelspec": {
   "display_name": "Python 3",
   "language": "python",
   "name": "python3"
  },
  "language_info": {
   "codemirror_mode": {
    "name": "ipython",
    "version": 3
   },
   "file_extension": ".py",
   "mimetype": "text/x-python",
   "name": "python",
   "nbconvert_exporter": "python",
   "pygments_lexer": "ipython3",
   "version": "3.8.5"
  }
 },
 "nbformat": 4,
 "nbformat_minor": 1
}
