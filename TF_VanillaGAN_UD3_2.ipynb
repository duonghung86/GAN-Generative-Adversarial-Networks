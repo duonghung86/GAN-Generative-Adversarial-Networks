{
  "nbformat": 4,
  "nbformat_minor": 0,
  "metadata": {
    "colab": {
      "name": "TF_VanillaGAN_UD3.2.ipynb",
      "provenance": [],
      "collapsed_sections": [],
      "toc_visible": true,
      "include_colab_link": true
    },
    "kernelspec": {
      "display_name": "Python 3",
      "name": "python3"
    }
  },
  "cells": [
    {
      "cell_type": "markdown",
      "metadata": {
        "id": "view-in-github",
        "colab_type": "text"
      },
      "source": [
        "<a href=\"https://colab.research.google.com/github/duonghung86/GAN-Generative-Adversarial-Networks/blob/main/TF_VanillaGAN_UD3_2.ipynb\" target=\"_parent\"><img src=\"https://colab.research.google.com/assets/colab-badge.svg\" alt=\"Open In Colab\"/></a>"
      ]
    },
    {
      "cell_type": "markdown",
      "metadata": {
        "id": "MUI72yCS6PWt"
      },
      "source": [
        "# Vanilla GAN for Uniform Distribution\r\n",
        "---\r\n",
        "$$ X = \r\n",
        "\\left(\\begin{array}{cc} \r\n",
        "- & X_1 & -\\\\\r\n",
        "... & ... & ...\\\\\r\n",
        "- & X_i & -\\\\\r\n",
        "... & ... & ...\\\\\r\n",
        "- & X_n & -\\\\\r\n",
        "\\end{array}\\right)\r\n",
        "$$\r\n",
        "\r\n",
        "$X_i \\sim U(0,1)$ for $i=1,m$\r\n",
        "\r\n",
        "Reference: \r\n",
        "- https://machinelearningmastery.com/how-to-develop-a-generative-adversarial-network-for-a-1-dimensional-function-from-scratch-in-keras/\r\n",
        "- https://www.tensorflow.org/tutorials/generative/dcgan\r\n"
      ]
    },
    {
      "cell_type": "markdown",
      "metadata": {
        "id": "e1_Y75QXJS6h"
      },
      "source": [
        "## Setup"
      ]
    },
    {
      "cell_type": "code",
      "metadata": {
        "id": "WZKbyU2-AiY-",
        "colab": {
          "base_uri": "https://localhost:8080/"
        },
        "outputId": "e53200fe-2f10-4105-f7e3-00648ab9b2be"
      },
      "source": [
        "# Load packages\r\n",
        "import numpy as np\r\n",
        "import seaborn as sns\r\n",
        "import os\r\n",
        "from scipy.stats import moment\r\n",
        "import time\r\n",
        "# Tensorflow\r\n",
        "import tensorflow as tf\r\n",
        "print(tf.__version__)\r\n",
        "from tensorflow.keras.models import Sequential\r\n",
        "from tensorflow.keras.layers import Dense, LeakyReLU\r\n",
        "\r\n",
        "# Visualization\r\n",
        "import matplotlib.pyplot as plt\r\n",
        "from tensorflow.keras.utils import plot_model\r\n",
        "from IPython import display\r\n",
        "\r\n",
        "# Download output files\r\n",
        "from google.colab import files"
      ],
      "execution_count": 1,
      "outputs": [
        {
          "output_type": "stream",
          "text": [
            "2.4.1\n"
          ],
          "name": "stdout"
        }
      ]
    },
    {
      "cell_type": "markdown",
      "metadata": {
        "id": "iYn4MdZnKCey"
      },
      "source": [
        "## Load and prepare the dataset\n",
        "\n",
        "Data set have shape $n \\times m$:\n",
        "- $X_i$ is a U(0,1) random variable for $i$ in $[1,n]$"
      ]
    },
    {
      "cell_type": "code",
      "metadata": {
        "id": "a4fYMGxGhrna"
      },
      "source": [
        "# True data distribution\r\n",
        "B = 1\r\n",
        "A = 0\r\n",
        "# data set shape\r\n",
        "N = 1000\r\n",
        "M = 1000\r\n",
        "np.random.seed(423)\r\n",
        "X = np.random.uniform(B,A,size = (N,M))"
      ],
      "execution_count": 2,
      "outputs": []
    },
    {
      "cell_type": "code",
      "metadata": {
        "colab": {
          "base_uri": "https://localhost:8080/",
          "height": 282
        },
        "id": "1vZbCu2G5kg1",
        "outputId": "c16d0434-b5c4-4cf9-840f-1151dca8f6fb"
      },
      "source": [
        "# Visualization\r\n",
        "ind = np.random.randint(N,size=4)\r\n",
        "print(ind)\r\n",
        "for i in ind:\r\n",
        "    sns.kdeplot(X[i,:],label = 'Row {}'.format(i))\r\n",
        "plt.legend()\r\n",
        "plt.show()"
      ],
      "execution_count": 3,
      "outputs": [
        {
          "output_type": "stream",
          "text": [
            "[306 502 903 939]\n"
          ],
          "name": "stdout"
        },
        {
          "output_type": "display_data",
          "data": {
            "image/png": "[encoded data removed]",
            "text/plain": [
              "<Figure size 432x288 with 1 Axes>"
            ]
          },
          "metadata": {
            "tags": [],
            "needs_background": "light"
          }
        }
      ]
    },
    {
      "cell_type": "code",
      "metadata": {
        "id": "S4PIDhoDLbsZ"
      },
      "source": [
        "BUFFER_SIZE = N\n",
        "BATCH_SIZE = 32\n",
        "# Batch and shuffle the data\n",
        "train_dataset = tf.data.Dataset.from_tensor_slices(X).shuffle(BUFFER_SIZE).batch(BATCH_SIZE)"
      ],
      "execution_count": 4,
      "outputs": []
    },
    {
      "cell_type": "markdown",
      "metadata": {
        "id": "THY-sZMiQ4UV"
      },
      "source": [
        "## Create the models\n",
        "\n",
        "Both the generator and discriminator are defined using the [Keras Sequential API](https://www.tensorflow.org/guide/keras#sequential_model)."
      ]
    },
    {
      "cell_type": "markdown",
      "metadata": {
        "id": "-tEyxE-GMC48"
      },
      "source": [
        "### The Generator\n",
        "\n",
        "The generator uses full connected layers to produce a distribution from a seed (random noise). "
      ]
    },
    {
      "cell_type": "code",
      "metadata": {
        "id": "6bpTcDqoLWjY"
      },
      "source": [
        "def make_generator_model(in_dim = 100, out_dim = 1):\n",
        "    model = Sequential()\n",
        "    model.add(Dense(20, activation='relu', kernel_initializer='he_uniform', input_dim=in_dim))\n",
        "    model.add(Dense(20, activation='relu'))\n",
        "    model.add(Dense(out_dim, activation='tanh'))\n",
        "\n",
        "    #model.add(layers.Dense(20, use_bias=False, input_shape=(100,)))\n",
        "    #model.add(layers.LeakyReLU())\n",
        "    #model.add(layers.Dense(COL))\n",
        "    #model.add(layers.LeakyReLU())\n",
        "    return model"
      ],
      "execution_count": 5,
      "outputs": []
    },
    {
      "cell_type": "markdown",
      "metadata": {
        "id": "GyWgG09LCSJl"
      },
      "source": [
        "Use the (as yet untrained) generator to create a distribution."
      ]
    },
    {
      "cell_type": "code",
      "metadata": {
        "id": "gl7jcC7TdPTG",
        "colab": {
          "base_uri": "https://localhost:8080/",
          "height": 520
        },
        "outputId": "5f97355b-9d4c-46e2-9686-a4c228111ee7"
      },
      "source": [
        "Z_DIM = 100\n",
        "generator = make_generator_model(in_dim = Z_DIM, out_dim = M)\n",
        "generator.summary()\n",
        "# plot the model\n",
        "plot_model(generator, show_shapes=True, show_layer_names=True)\n",
        "noise = tf.random.normal([3, Z_DIM])\n",
        "sns.kdeplot(noise[0,:], label = 'Random noise')\n",
        "gen_X = generator(noise, training=False)\n",
        "print(gen_X.shape)\n",
        "sns.kdeplot(gen_X[0,:], label = 'Generated sample')\n",
        "plt.legend()\n",
        "plt.show()"
      ],
      "execution_count": 6,
      "outputs": [
        {
          "output_type": "stream",
          "text": [
            "Model: \"sequential\"\n",
            "_________________________________________________________________\n",
            "Layer (type)                 Output Shape              Param #   \n",
            "=================================================================\n",
            "dense (Dense)                (None, 20)                2020      \n",
            "_________________________________________________________________\n",
            "dense_1 (Dense)              (None, 20)                420       \n",
            "_________________________________________________________________\n",
            "dense_2 (Dense)              (None, 1000)              21000     \n",
            "=================================================================\n",
            "Total params: 23,440\n",
            "Trainable params: 23,440\n",
            "Non-trainable params: 0\n",
            "_________________________________________________________________\n",
            "(3, 1000)\n"
          ],
          "name": "stdout"
        },
        {
          "output_type": "display_data",
          "data": {
            "image/png": "[encoded data removed]",
            "text/plain": [
              "<Figure size 432x288 with 1 Axes>"
            ]
          },
          "metadata": {
            "tags": [],
            "needs_background": "light"
          }
        }
      ]
    },
    {
      "cell_type": "markdown",
      "metadata": {
        "id": "OWK9v3c5XqZm"
      },
      "source": [
        "### The moments and bincount"
      ]
    },
    {
      "cell_type": "code",
      "metadata": {
        "colab": {
          "base_uri": "https://localhost:8080/"
        },
        "id": "b3nnjwJPXxQN",
        "outputId": "9637ec60-1510-44f4-a64f-528694d7db1c"
      },
      "source": [
        "def m_bc(arr):\r\n",
        "    #print(tf.nn.moments(arr,1))\r\n",
        "    moments = tf.stack(tf.nn.moments(arr,1),axis=-1)\r\n",
        "    int_arr = tf.cast(tf.math.rint(arr*100),'int32')\r\n",
        "    tfbin = tf.math.bincount(int_arr,axis=-1)\r\n",
        "    tfdiff = tf.stack(tf.nn.moments(tfbin,1),axis=-1)\r\n",
        "    #print(moments)\r\n",
        "    tfdiff = tf.cast(tfdiff,'float32')\r\n",
        "    moments = tf.cast(moments,'float32')\r\n",
        "    #print(moments.shape, tfdiff.shape)\r\n",
        "    output = tf.concat([moments,tfdiff],axis=-1)\r\n",
        "    return output\r\n",
        "gen_moments = m_bc(gen_X)\r\n",
        "gen_moments"
      ],
      "execution_count": 7,
      "outputs": [
        {
          "output_type": "execute_result",
          "data": {
            "text/plain": [
              "<tf.Tensor: shape=(3, 4), dtype=float32, numpy=\n",
              "array([[-4.5801583e-03,  7.9202550e-03,  2.3000000e+01,  1.1300000e+02],\n",
              "       [-4.1208286e-03,  1.5202838e-02,  2.3000000e+01,  2.1000000e+02],\n",
              "       [-1.3139870e-03,  3.9756484e-03,  1.2000000e+01,  4.4800000e+02]],\n",
              "      dtype=float32)>"
            ]
          },
          "metadata": {
            "tags": []
          },
          "execution_count": 7
        }
      ]
    },
    {
      "cell_type": "code",
      "metadata": {
        "colab": {
          "base_uri": "https://localhost:8080/"
        },
        "id": "LSaZgDelkC4D",
        "outputId": "ad13b2e0-90af-4379-98c4-e2d18ab210d0"
      },
      "source": [
        "i =0\r\n",
        "for batch in train_dataset:\r\n",
        "    print(m_bc(batch))\r\n",
        "    i+=1\r\n",
        "    if i ==1: break"
      ],
      "execution_count": 8,
      "outputs": [
        {
          "output_type": "stream",
          "text": [
            "tf.Tensor(\n",
            "[[ 0.49903977  0.08220519  9.         13.        ]\n",
            " [ 0.5004333   0.08370852  9.         12.        ]\n",
            " [ 0.51342225  0.08465424  9.         10.        ]\n",
            " [ 0.49726483  0.08282328  9.         10.        ]\n",
            " [ 0.5037136   0.08580691  9.         10.        ]\n",
            " [ 0.49605972  0.08051836  9.         11.        ]\n",
            " [ 0.4793845   0.08169593  9.          9.        ]\n",
            " [ 0.50253505  0.08571597  9.          9.        ]\n",
            " [ 0.5004914   0.08102649  9.         11.        ]\n",
            " [ 0.50314075  0.07997842  9.         12.        ]\n",
            " [ 0.514232    0.08116309  9.         10.        ]\n",
            " [ 0.49411356  0.08346911  9.         11.        ]\n",
            " [ 0.49250495  0.08280919  9.         11.        ]\n",
            " [ 0.5019324   0.08252537  9.         10.        ]\n",
            " [ 0.51261324  0.08081809  9.         11.        ]\n",
            " [ 0.48870385  0.08154596  9.         11.        ]\n",
            " [ 0.47629562  0.08321829  9.         10.        ]\n",
            " [ 0.501834    0.08419723  9.          9.        ]\n",
            " [ 0.49217355  0.08131916  9.         11.        ]\n",
            " [ 0.5031063   0.08585034  9.         10.        ]\n",
            " [ 0.51519656  0.08151344  9.          8.        ]\n",
            " [ 0.5019792   0.08441772  9.         10.        ]\n",
            " [ 0.48899734  0.082861    9.          9.        ]\n",
            " [ 0.4934261   0.07812305  9.          9.        ]\n",
            " [ 0.49992833  0.08144346  9.         12.        ]\n",
            " [ 0.50987643  0.08212694  9.         11.        ]\n",
            " [ 0.5011567   0.07986793  9.         12.        ]\n",
            " [ 0.49578464  0.08995391  9.         13.        ]\n",
            " [ 0.5005475   0.08208696  9.         11.        ]\n",
            " [ 0.50224614  0.08046255  9.         12.        ]\n",
            " [ 0.49269924  0.08213543  9.          8.        ]\n",
            " [ 0.49559298  0.08076707  9.         11.        ]], shape=(32, 4), dtype=float32)\n"
          ],
          "name": "stdout"
        }
      ]
    },
    {
      "cell_type": "code",
      "metadata": {
        "colab": {
          "base_uri": "https://localhost:8080/"
        },
        "id": "yl4ow3lebvLt",
        "outputId": "50fcb3c6-9c30-413d-fc73-ee5a773909ea"
      },
      "source": [
        "# check\r\n",
        "[moment(gen_X[0],i) for i in range(1,5)]"
      ],
      "execution_count": 9,
      "outputs": [
        {
          "output_type": "execute_result",
          "data": {
            "text/plain": [
              "[0.0, 0.007920255, -8.039692e-06, 0.0001674226]"
            ]
          },
          "metadata": {
            "tags": []
          },
          "execution_count": 9
        }
      ]
    },
    {
      "cell_type": "code",
      "metadata": {
        "id": "kc0EumIqcOSe"
      },
      "source": [
        "MOMENT = 5"
      ],
      "execution_count": 10,
      "outputs": []
    },
    {
      "cell_type": "markdown",
      "metadata": {
        "id": "D0IKnaCtg6WE"
      },
      "source": [
        "### The Discriminator\n",
        "\n",
        "The discriminator is a CNN-based image classifier."
      ]
    },
    {
      "cell_type": "code",
      "metadata": {
        "id": "dw2tPLmk2pEP"
      },
      "source": [
        "def make_discriminator_model(in_dim):\n",
        "    model = tf.keras.Sequential()\n",
        "    model.add(Dense(10, activation='relu', input_dim=in_dim))\n",
        "    model.add(Dense(10, activation='relu'))\n",
        "    model.add(Dense(10, activation='relu'))\n",
        "    #model.add(layers.Dense(20, input_shape=(COL,)))\n",
        "    #model.add(layers.LeakyReLU())\n",
        "    model.add(Dense(1))\n",
        "    model.add(LeakyReLU())\n",
        "    return model"
      ],
      "execution_count": 11,
      "outputs": []
    },
    {
      "cell_type": "markdown",
      "metadata": {
        "id": "QhPneagzCaQv"
      },
      "source": [
        "Use the (as yet untrained) discriminator to classify the generated samples as real or fake. The model will be trained to output positive values for real samples, and negative values for fake samples."
      ]
    },
    {
      "cell_type": "code",
      "metadata": {
        "id": "gDkA05NE6QMs",
        "colab": {
          "base_uri": "https://localhost:8080/"
        },
        "outputId": "e1cb1e59-ea60-41ab-8002-12dc380b4f7f"
      },
      "source": [
        "discriminator = make_discriminator_model(4)\n",
        "discriminator.summary()\n",
        "# plot the model\n",
        "plot_model(discriminator, show_shapes=True, show_layer_names=True)\n",
        "decision = discriminator(gen_moments)\n",
        "print(decision)"
      ],
      "execution_count": 12,
      "outputs": [
        {
          "output_type": "stream",
          "text": [
            "Model: \"sequential_1\"\n",
            "_________________________________________________________________\n",
            "Layer (type)                 Output Shape              Param #   \n",
            "=================================================================\n",
            "dense_3 (Dense)              (None, 10)                50        \n",
            "_________________________________________________________________\n",
            "dense_4 (Dense)              (None, 10)                110       \n",
            "_________________________________________________________________\n",
            "dense_5 (Dense)              (None, 10)                110       \n",
            "_________________________________________________________________\n",
            "dense_6 (Dense)              (None, 1)                 11        \n",
            "_________________________________________________________________\n",
            "leaky_re_lu (LeakyReLU)      (None, 1)                 0         \n",
            "=================================================================\n",
            "Total params: 281\n",
            "Trainable params: 281\n",
            "Non-trainable params: 0\n",
            "_________________________________________________________________\n",
            "tf.Tensor(\n",
            "[[10.333247]\n",
            " [18.166666]\n",
            " [36.92619 ]], shape=(3, 1), dtype=float32)\n"
          ],
          "name": "stdout"
        }
      ]
    },
    {
      "cell_type": "markdown",
      "metadata": {
        "id": "0FMYgY_mPfTi"
      },
      "source": [
        "## Define the loss and optimizers\n",
        "\n",
        "Define loss functions and optimizers for both models.\n"
      ]
    },
    {
      "cell_type": "code",
      "metadata": {
        "id": "psQfmXxYKU3X"
      },
      "source": [
        "# This method returns a helper function to compute cross entropy loss\n",
        "cross_entropy = tf.keras.losses.BinaryCrossentropy(from_logits=True)"
      ],
      "execution_count": 13,
      "outputs": []
    },
    {
      "cell_type": "markdown",
      "metadata": {
        "id": "PKY_iPSPNWoj"
      },
      "source": [
        "### Discriminator loss\n",
        "\n",
        "This method quantifies how well the discriminator is able to distinguish real samples from fakes. It compares the discriminator's predictions on real samples to an array of 1s, and the discriminator's predictions on fake (generated) samples to an array of 0s."
      ]
    },
    {
      "cell_type": "code",
      "metadata": {
        "id": "wkMNfBWlT-PV"
      },
      "source": [
        "def discriminator_loss(real_output, fake_output):\n",
        "    real_loss = cross_entropy(tf.ones_like(real_output), real_output)\n",
        "    fake_loss = cross_entropy(tf.zeros_like(fake_output), fake_output)\n",
        "    total_loss = real_loss + fake_loss\n",
        "    return total_loss"
      ],
      "execution_count": 14,
      "outputs": []
    },
    {
      "cell_type": "markdown",
      "metadata": {
        "id": "Jd-3GCUEiKtv"
      },
      "source": [
        "### Generator loss\n",
        "The generator's loss quantifies how well it was able to trick the discriminator. Intuitively, if the generator is performing well, the discriminator will classify the fake samples as real (or 1). Here, we will compare the discriminators decisions on the generated images to an array of 1s."
      ]
    },
    {
      "cell_type": "code",
      "metadata": {
        "id": "90BIcCKcDMxz"
      },
      "source": [
        "def generator_loss(fake_output):\n",
        "    return cross_entropy(tf.ones_like(fake_output), fake_output)"
      ],
      "execution_count": 15,
      "outputs": []
    },
    {
      "cell_type": "markdown",
      "metadata": {
        "id": "MgIc7i0th_Iu"
      },
      "source": [
        "The discriminator and the generator optimizers are different since we will train two networks separately."
      ]
    },
    {
      "cell_type": "code",
      "metadata": {
        "id": "iWCn_PVdEJZ7"
      },
      "source": [
        "generator_optimizer = tf.keras.optimizers.Adam(1e-4)\n",
        "discriminator_optimizer = tf.keras.optimizers.Adam(1e-4)"
      ],
      "execution_count": 16,
      "outputs": []
    },
    {
      "cell_type": "markdown",
      "metadata": {
        "id": "mWtinsGDPJlV"
      },
      "source": [
        "### Save checkpoints\n",
        "This notebook also demonstrates how to save and restore models, which can be helpful in case a long running training task is interrupted."
      ]
    },
    {
      "cell_type": "code",
      "metadata": {
        "id": "CA1w-7s2POEy"
      },
      "source": [
        "checkpoint_dir = './training_checkpoints'\n",
        "checkpoint_prefix = os.path.join(checkpoint_dir, \"ckpt\")\n",
        "checkpoint = tf.train.Checkpoint(generator_optimizer=generator_optimizer,\n",
        "                                 discriminator_optimizer=discriminator_optimizer,\n",
        "                                 generator=generator,\n",
        "                                 discriminator=discriminator)"
      ],
      "execution_count": 17,
      "outputs": []
    },
    {
      "cell_type": "markdown",
      "metadata": {
        "id": "Rw1fkAczTQYh"
      },
      "source": [
        "## Define the training loop\n"
      ]
    },
    {
      "cell_type": "markdown",
      "metadata": {
        "id": "jylSonrqSWfi"
      },
      "source": [
        "1. The training loop begins with generator receiving a random seed as input. That seed is used to produce a distribution. \r\n",
        "2. The discriminator is then used to classify real distributions (drawn from the training set) and fakes samples (produced by the generator). \r\n",
        "3. The loss is calculated for each of these models, and the gradients are used to update the generator and discriminator."
      ]
    },
    {
      "cell_type": "code",
      "metadata": {
        "id": "3t5ibNo05jCB"
      },
      "source": [
        "# Notice the use of `tf.function`\n",
        "# This annotation causes the function to be \"compiled\".\n",
        "@tf.function\n",
        "def train_step(samples):\n",
        "    # 1.b. Get a new random noise vector z\n",
        "    z = tf.random.normal([BATCH_SIZE, Z_DIM], mean=0, stddev=1.0)\n",
        "\n",
        "    # Record gradients in tapes\n",
        "    with tf.GradientTape() as gen_tape, tf.GradientTape() as disc_tape:\n",
        "        \n",
        "    # 1.b. Using the Generator network to synthesize a batch of fake samples\n",
        "        gen_X = generator(z, training=True)\n",
        "\n",
        "    # 1.c. Use the discriminator to classify x and x*\n",
        "        real_output = discriminator(m_bc(samples), training=True)\n",
        "        fake_output = discriminator(m_bc(gen_X), training=True)\n",
        "\n",
        "    # 1.d. Compute the classification error\n",
        "        gen_loss = generator_loss(fake_output)\n",
        "        disc_loss = discriminator_loss(real_output, fake_output)\n",
        "    # 1.d.  Backpropagate the total error to update \n",
        "    #       both Generator and Discriminator's trainable parameters\n",
        "    gradients_of_generator = gen_tape.gradient(gen_loss, generator.trainable_variables)\n",
        "    gradients_of_discriminator = disc_tape.gradient(disc_loss, discriminator.trainable_variables)\n",
        "\n",
        "    generator_optimizer.apply_gradients(zip(gradients_of_generator, generator.trainable_variables))\n",
        "    discriminator_optimizer.apply_gradients(zip(gradients_of_discriminator, discriminator.trainable_variables))\n",
        "    return gen_loss, disc_loss"
      ],
      "execution_count": 18,
      "outputs": []
    },
    {
      "cell_type": "code",
      "metadata": {
        "id": "2M7LmLtGEMQJ"
      },
      "source": [
        "def train(dataset, epochs, n_eval = 20):\n",
        "    losses = []\n",
        "    for epoch in range(epochs):\n",
        "        start = time.time()\n",
        "\n",
        "        for sample_batch in dataset:\n",
        "            gl, dl = train_step(sample_batch)\n",
        "            losses.append([gl,dl])\n",
        "        # Save the model every n_eval epochs\n",
        "        if (epoch + 1) % n_eval == 0:\n",
        "                # Produce images for the GIF as we go\n",
        "            display.clear_output(wait=True)\n",
        "            gen_and_save_dist(generator, epoch + 1, seed)\n",
        "            checkpoint.save(file_prefix = checkpoint_prefix)\n",
        "\n",
        "            print ('Epoch {}:'.format(epoch + 1))\n",
        "            print ('Execution time: {:.3f} sec'.format(time.time()-start))\n",
        "            print ('Gen Loss and Dis Loss: {0:4.3f} and {1:4.3f} '.format(gl, dl))\n",
        "\n",
        "    # Generate after the final epoch\n",
        "    #display.clear_output(wait=True)\n",
        "    #gen_and_save_dist(generator, epochs, seed)\n",
        "\n",
        "    return losses"
      ],
      "execution_count": 19,
      "outputs": []
    },
    {
      "cell_type": "markdown",
      "metadata": {
        "id": "2aFF7Hk3XdeW"
      },
      "source": [
        "**Generate and save images**\n"
      ]
    },
    {
      "cell_type": "code",
      "metadata": {
        "id": "RmdVsmvhPxyy"
      },
      "source": [
        "def gen_and_save_dist(model, epoch, test_input):\n",
        "  # Notice `training` is set to False.\n",
        "  # This is so all layers run in inference mode (batchnorm).\n",
        "    predictions = model(test_input, training=False)\n",
        "\n",
        "    fig = plt.figure(figsize=(6,6))\n",
        "\n",
        "    sns.kdeplot(predictions[0,:])\n",
        "  \n",
        "    plt.savefig('./Figs/Epoch #{0:04d}.png'.format(epoch))\n",
        "    plt.show()"
      ],
      "execution_count": 20,
      "outputs": []
    },
    {
      "cell_type": "markdown",
      "metadata": {
        "id": "dZrd4CdjR-Fp"
      },
      "source": [
        "## Train the model\n",
        "Call the `train()` method defined above to train the generator and discriminator simultaneously. Note, training GANs can be tricky. It's important that the generator and discriminator do not overpower each other (e.g., that they train at a similar rate).\n"
      ]
    },
    {
      "cell_type": "code",
      "metadata": {
        "id": "UM8NWOggGINH"
      },
      "source": [
        "# Prepare the folder for figures\r\n",
        "!rm -r Figs\r\n",
        "!mkdir Figs"
      ],
      "execution_count": 21,
      "outputs": []
    },
    {
      "cell_type": "code",
      "metadata": {
        "id": "NS2GWywBbAWo"
      },
      "source": [
        "EPOCHS = 1000\n",
        "N_EVAL = 5\n",
        "Z_DIM = 100\n",
        "\n",
        "# We will reuse this seed overtime (so it's easier)\n",
        "# to visualize progress in the animated GIF)\n",
        "seed = tf.random.normal([1, Z_DIM])"
      ],
      "execution_count": 22,
      "outputs": []
    },
    {
      "cell_type": "code",
      "metadata": {
        "id": "Ly3UN0SLLY2l"
      },
      "source": [
        "%%time\r\n",
        "losses = train(train_dataset, EPOCHS,N_EVAL)"
      ],
      "execution_count": null,
      "outputs": []
    },
    {
      "cell_type": "code",
      "metadata": {
        "id": "l0JCb6psFXW0"
      },
      "source": [
        "losses = np.array(losses)\r\n",
        "print(losses.shape)\r\n",
        "plt.plot(losses[:,0],label = 'Generator Loss')\r\n",
        "plt.plot(losses[:,1],label = 'Discriminator Loss')\r\n",
        "plt.legend()\r\n",
        "plt.savefig('Loss_log_ud2.png',dpi=200)\r\n",
        "plt.show()"
      ],
      "execution_count": null,
      "outputs": []
    },
    {
      "cell_type": "code",
      "metadata": {
        "id": "99Xyy8QyF9qz"
      },
      "source": [
        "files.download('Loss_log_ud3.png')"
      ],
      "execution_count": null,
      "outputs": []
    },
    {
      "cell_type": "markdown",
      "metadata": {
        "id": "rfM4YcPVPkNO"
      },
      "source": [
        "Restore the latest checkpoint."
      ]
    },
    {
      "cell_type": "code",
      "metadata": {
        "id": "XhXsd0srPo8c"
      },
      "source": [
        "checkpoint.restore(tf.train.latest_checkpoint(checkpoint_dir))"
      ],
      "execution_count": null,
      "outputs": []
    },
    {
      "cell_type": "markdown",
      "metadata": {
        "id": "P4M_vIbUi7c0"
      },
      "source": [
        "## Create a GIF\n"
      ]
    },
    {
      "cell_type": "code",
      "metadata": {
        "id": "EhOnHtGhIRbA"
      },
      "source": [
        "# To generate GIFs\r\n",
        "#!pip install imageio\r\n",
        "!pip install git+https://github.com/tensorflow/docs\r\n",
        "import glob\r\n",
        "import imageio\r\n",
        "import PIL"
      ],
      "execution_count": null,
      "outputs": []
    },
    {
      "cell_type": "code",
      "metadata": {
        "id": "WfO5wCdclHGL"
      },
      "source": [
        "# Display a single image using the epoch number\n",
        "def display_image(epoch_no):\n",
        "  return PIL.Image.open('./Figs/Epoch #{0:04d}.png'.format(epoch_no))"
      ],
      "execution_count": null,
      "outputs": []
    },
    {
      "cell_type": "code",
      "metadata": {
        "id": "5x3q9_Oe5q0A"
      },
      "source": [
        "display_image(EPOCHS)"
      ],
      "execution_count": null,
      "outputs": []
    },
    {
      "cell_type": "markdown",
      "metadata": {
        "id": "NywiH3nL8guF"
      },
      "source": [
        "Use `imageio` to create an animated gif using the images saved during training."
      ]
    },
    {
      "cell_type": "code",
      "metadata": {
        "id": "IGKQgENQ8lEI"
      },
      "source": [
        "anim_file = 'vgan_ud3.gif'\n",
        "\n",
        "with imageio.get_writer(anim_file, mode='I') as writer:\n",
        "  filenames = glob.glob('Figs/Epoch*.png')\n",
        "  filenames = sorted(filenames)\n",
        "  for filename in filenames:\n",
        "    image = imageio.imread(filename)\n",
        "    writer.append_data(image)\n",
        "  image = imageio.imread(filename)\n",
        "  writer.append_data(image)"
      ],
      "execution_count": null,
      "outputs": []
    },
    {
      "cell_type": "code",
      "metadata": {
        "id": "ZBwyU6t2Wf3g"
      },
      "source": [
        "import tensorflow_docs.vis.embed as embed\n",
        "embed.embed_file(anim_file)"
      ],
      "execution_count": null,
      "outputs": []
    },
    {
      "cell_type": "code",
      "metadata": {
        "id": "OssJphepHAvz"
      },
      "source": [
        "files.download(anim_file)"
      ],
      "execution_count": null,
      "outputs": []
    },
    {
      "cell_type": "markdown",
      "metadata": {
        "id": "k6qC-SbjK0yW"
      },
      "source": [
        "# END\n"
      ]
    }
  ]
}