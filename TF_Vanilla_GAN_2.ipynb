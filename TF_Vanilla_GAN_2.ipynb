{
 "cells": [
  {
   "cell_type": "markdown",
   "metadata": {},
   "source": [
    "# Vanilla GAN for MNIST data"
   ]
  },
  {
   "cell_type": "code",
   "execution_count": 1,
   "metadata": {},
   "outputs": [],
   "source": [
    "%matplotlib inline\n",
    "import matplotlib.pyplot as plt\n",
    "import numpy as np\n",
    "from tensorflow.keras.datasets import mnist\n",
    "from tensorflow.keras.layers import Dense, Flatten, Reshape\n",
    "from tensorflow.keras.models import Sequential\n",
    "from tensorflow.keras.optimizers import Adam"
   ]
  },
  {
   "cell_type": "code",
   "execution_count": 2,
   "metadata": {
    "collapsed": false,
    "jupyter": {
     "outputs_hidden": false
    },
    "pycharm": {
     "name": "#%%\n"
    }
   },
   "outputs": [],
   "source": [
    "# Model Input dimension\n",
    "img_rows = 28\n",
    "img_cols = 28\n",
    "channels = 1\n",
    "# Input image dimensions\n",
    "img_shape = (img_rows, img_cols, channels)\n",
    "\n",
    "# Size of noise vector, used as input to the generator\n",
    "z_dim = 100"
   ]
  },
  {
   "cell_type": "code",
   "execution_count": 3,
   "metadata": {},
   "outputs": [],
   "source": [
    "# Build Generator\n",
    "def build_generator(img_shape, z_dim):\n",
    "    model = Sequential()\n",
    "    # A fully connected layer\n",
    "    model.add(Dense(128, input_dim=z_dim, activation='relu')) \n",
    "    # Output with tanh activation\n",
    "    model.add(Dense(28 * 28 * 1, activation='tanh'))\n",
    "    # Reshape the output to Image dimension\n",
    "    model.add(Reshape(img_shape))\n",
    "    return model\n",
    "# Build Discriminator\n",
    "def build_discriminator(img_shape):\n",
    "    model = Sequential()\n",
    "    model.add(Flatten(input_shape=img_shape))\n",
    "    # A fully connected layer\n",
    "    model.add(Dense(128, activation = 'relu'))\n",
    "    # Output is the probabitly\n",
    "    model.add(Dense(1, activation='sigmoid'))\n",
    "    return model"
   ]
  },
  {
   "cell_type": "code",
   "execution_count": 4,
   "metadata": {},
   "outputs": [],
   "source": [
    "# Build model\n",
    "\n",
    "def build_gan(generator, discriminator):\n",
    "    model = Sequential()\n",
    "    model.add(generator)\n",
    "    model.add(discriminator)\n",
    "    return model\n",
    "\n",
    "# Build and complie the discriminator\n",
    "discriminator = build_discriminator(img_shape)\n",
    "discriminator.compile(loss='binary_crossentropy',\n",
    "                      optimizer=Adam(),\n",
    "                      metrics=['accuracy'])\n",
    "# Built generator\n",
    "generator = build_generator(img_shape, z_dim)\n",
    "# Keeps Discriminator’s parameters constant for Generator training\n",
    "discriminator.trainable = False\n",
    "gan = build_gan(generator, discriminator)\n",
    "gan.compile(loss='binary_crossentropy', optimizer=Adam())"
   ]
  },
  {
   "cell_type": "code",
   "execution_count": 5,
   "metadata": {},
   "outputs": [],
   "source": [
    "# Output sample images\n",
    "def sample_images(generator, image_grid_rows=4, image_grid_columns=4):\n",
    "    # Sample random noise\n",
    "    z = np.random.normal(0, 1, (image_grid_rows * image_grid_columns, z_dim))\n",
    "    # Generate Images from random noise\n",
    "    gen_imgs = generator.predict(z)\n",
    "    # Rescale to [0,1]\n",
    "    gen_imgs = 0.5 * gen_imgs + 0.5\n",
    "    \n",
    "    # Set image grid\n",
    "    fig, axs = plt.subplots(image_grid_rows,\n",
    "                            image_grid_columns,\n",
    "                            figsize=(4, 4),\n",
    "                            sharey=True,\n",
    "                            sharex=True)\n",
    "    cnt = 0\n",
    "    for i in range(image_grid_rows):\n",
    "        for j in range(image_grid_columns):\n",
    "            axs[i, j].imshow(gen_imgs[cnt, :, :, 0], cmap='gray')\n",
    "            axs[i, j].axis('off')\n",
    "            cnt += 1"
   ]
  },
  {
   "cell_type": "code",
   "execution_count": 8,
   "metadata": {},
   "outputs": [],
   "source": [
    "# Train GAN model\n",
    "losses = []\n",
    "accuracies = []\n",
    "iteration_checkpoints = []\n",
    "\n",
    "def train(iterations, batch_size, sample_interval):\n",
    "    # Load data set\n",
    "    (X_train, _), (_, _) = mnist.load_data()\n",
    "    # Rescale to [-1,1]\n",
    "    X_train = X_train / 127.5 - 1.0\n",
    "    X_train = np.expand_dims(X_train, axis=3)\n",
    "    # Label for real and face data\n",
    "    real = np.ones((batch_size, 1))\n",
    "    fake = np.zeros((batch_size, 1))\n",
    "    \n",
    "    # Number of epochs\n",
    "    for iteration in range(iterations):\n",
    "        \n",
    "        # 1. Train the Discriminator\n",
    "        # ----\n",
    "        # 1.a. Get a random batch of real images: x\n",
    "        idx = np.random.randint(0, X_train.shape[0], batch_size)\n",
    "        imgs = X_train[idx]\n",
    "        \n",
    "        # 1.b.Generates a batch of fake images G(z)=x*\n",
    "        z = np.random.normal(0, 1, (batch_size, 100))\n",
    "        gen_imgs = generator.predict(z)\n",
    "        \n",
    "        # 1.c Compute the classification losses for D(x) and D(x*)\n",
    "        d_loss_real = discriminator.train_on_batch(imgs, real)\n",
    "        d_loss_fake = discriminator.train_on_batch(gen_imgs, fake)\n",
    "        # take the average of losses of real and fake training\n",
    "        d_loss, accuracy = 0.5 * np.add(d_loss_real, d_loss_fake)\n",
    "        \n",
    "        \n",
    "        # 2. Train the generator\n",
    "        # ----\n",
    "        # 2.a Generate a batch of fake image G(z) = x*\n",
    "        # from random noise vector z\n",
    "        z = np.random.normal(0, 1, (batch_size, 100))\n",
    "        gen_samples = generator.predict(z) \n",
    "        \n",
    "        # 2.b Train the generator\n",
    "        g_loss = gan.train_on_batch(z, real) # why z?\n",
    "        \n",
    "        # Save the losses and accs to plot them after training\n",
    "        if (iteration + 1) % sample_interval == 0:\n",
    "            losses.append((d_loss, g_loss))\n",
    "            accuracies.append(100.0 * accuracy)\n",
    "            iteration_checkpoints.append(iteration + 1)\n",
    "            print(\"%d [D loss: %f, acc.: %.2f%%] [G loss: %f]\" %\n",
    "            (iteration + 1, d_loss, 100.0 * accuracy, g_loss))\n",
    "            # Output a sample of generated Images\n",
    "            #sample_images(generator)"
   ]
  },
  {
   "cell_type": "code",
   "execution_count": 9,
   "metadata": {},
   "outputs": [
    {
     "name": "stdout",
     "output_type": "stream",
     "text": [
      "100 [D loss: 0.255900, acc.: 90.23%] [G loss: 5.423917]\n",
      "200 [D loss: 0.150835, acc.: 92.97%] [G loss: 4.410271]\n",
      "300 [D loss: 0.198588, acc.: 89.84%] [G loss: 4.978428]\n",
      "400 [D loss: 0.237980, acc.: 89.84%] [G loss: 3.789958]\n",
      "500 [D loss: 0.111535, acc.: 94.53%] [G loss: 4.291515]\n"
     ]
    }
   ],
   "source": [
    "# Running the model\n",
    "iterations = 500\n",
    "batch_size = 128\n",
    "sample_interval = 100\n",
    "train(iterations, batch_size, sample_interval)"
   ]
  }
 ],
 "metadata": {
  "kernelspec": {
   "display_name": "PyCharm (Pattern_recognition)",
   "language": "python",
   "name": "pycharm-b5750b70"
  },
  "language_info": {
   "codemirror_mode": {
    "name": "ipython",
    "version": 3
   },
   "file_extension": ".py",
   "mimetype": "text/x-python",
   "name": "python",
   "nbconvert_exporter": "python",
   "pygments_lexer": "ipython3",
   "version": "3.8.5"
  }
 },
 "nbformat": 4,
 "nbformat_minor": 4
}
